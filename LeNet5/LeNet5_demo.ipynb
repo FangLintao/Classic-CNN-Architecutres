{
 "cells": [
  {
   "cell_type": "code",
   "execution_count": null,
   "metadata": {},
   "outputs": [],
   "source": [
    "import torch \n",
    "import torch.nn as nn\n",
    "import torch.nn.functional as f\n",
    "from torch.autograd import Variable\n",
    "import torchvision.transforms as transforms\n",
    "import torch.optim as optim\n",
    "from torch.utils.tensorboard import SummaryWriter\n",
    "import torchvision\n",
    "\n",
    "from Tools.train_test_model import train_test_model\n",
    "from Tools.Visualize import Visualize\n",
    "from LeNets.LeNet5 import LeNet5\n",
    "\n",
    "import matplotlib.pyplot as plt"
   ]
  },
  {
   "cell_type": "code",
   "execution_count": null,
   "metadata": {},
   "outputs": [],
   "source": [
    "network = LeNet5()\n",
    "# Reference Link: https://nextjournal.com/gkoehler/pytorch-mnist\n",
    "transform = transforms.Compose(\n",
    "    [\n",
    "            transforms.Resize((32,32)),\n",
    "            transforms.ToTensor(),\n",
    "            transforms.Normalize(([0.1307]),([0.3081]))\n",
    "    ]\n",
    "    )\n",
    "\n",
    "dataset = torchvision.datasets.MNIST(root=\"./Datasets\", transform = transform,download=True)\n",
    "train_set, val_set = torch.utils.data.random_split(dataset, [50000, 10000])\n",
    "test_set = torchvision.datasets.MNIST(root=\"./Datasets\", train=False,transform = transform,download=True)\n",
    "network = LeNet5()\n",
    "tool = train_test_model(\"LeNet5\")"
   ]
  },
  {
   "cell_type": "code",
   "execution_count": null,
   "metadata": {},
   "outputs": [],
   "source": [
    "tool.train_model(network,25,train_set, val_set)"
   ]
  },
  {
   "cell_type": "code",
   "execution_count": null,
   "metadata": {},
   "outputs": [],
   "source": [
    "tool.test_model(network,test_set, accuracy=99.25)"
   ]
  },
  {
   "cell_type": "code",
   "execution_count": null,
   "metadata": {},
   "outputs": [],
   "source": [
    "Vis = Visualize()\n",
    "train_loader = torch.utils.data.DataLoader(train_set,batch_size = 5, shuffle = True, num_workers = 2)\n",
    "batch = next(iter(train_loader))\n",
    "image,_ = batch\n",
    "Vis.feature_visualize(network, network.conv1,\"conv1\",image)"
   ]
  }
 ],
 "metadata": {
  "kernelspec": {
   "display_name": "Python 3",
   "language": "python",
   "name": "python3"
  },
  "language_info": {
   "codemirror_mode": {
    "name": "ipython",
    "version": 3
   },
   "file_extension": ".py",
   "mimetype": "text/x-python",
   "name": "python",
   "nbconvert_exporter": "python",
   "pygments_lexer": "ipython3",
   "version": "3.8.8"
  }
 },
 "nbformat": 4,
 "nbformat_minor": 4
}
