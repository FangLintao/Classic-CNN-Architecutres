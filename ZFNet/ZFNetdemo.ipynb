{
 "cells": [
  {
   "cell_type": "code",
   "execution_count": null,
   "metadata": {
    "scrolled": true
   },
   "outputs": [],
   "source": [
    "import torch \n",
    "import torchvision.transforms as transforms\n",
    "import torchvision\n",
    "\n",
    "from Tools.train_test_model import train_test_model\n",
    "from Tools.Visualize import Visualize\n",
    "from ZFNet.ZFNet import ZFNet\n",
    "from ZFNet.DeConv import DeConv\n",
    "from ZFNet.Load_Model import Load_Model\n",
    "import numpy as np\n",
    "import matplotlib.pyplot as plt"
   ]
  },
  {
   "cell_type": "code",
   "execution_count": null,
   "metadata": {},
   "outputs": [],
   "source": [
    "transform = transforms.Compose(\n",
    "    [\n",
    "        transforms.Resize((224,224)),    \n",
    "        transforms.ToTensor(),\n",
    "        #transforms.Normalize(([0.1307]),([0.3081]))\n",
    "    ]\n",
    "    )\n",
    "\n",
    "dataset = torchvision.datasets.CIFAR10(root=\"./Datasets\",train=True, transform = transform,download=True)\n",
    "train_set, val_set = torch.utils.data.random_split(dataset, [40000, 10000])\n",
    "test_set = torchvision.datasets.CIFAR10(root=\"./Datasets\",train=False,transform = transform,download=True)"
   ]
  },
  {
   "cell_type": "code",
   "execution_count": null,
   "metadata": {},
   "outputs": [],
   "source": [
    "load_model = Load_Model()\n",
    "network = ZFNet(10).cuda()\n",
    "deconv = DeConv().cuda()\n",
    "tool = train_test_model(\"ZFNet\")\n",
    "#tool.train_model(network,epoch=30,train_set=train_set,val_set=val_set,lr=[0.0001],batch_size=[20],num_worker=[4],saved_accuracy=80)"
   ]
  },
  {
   "cell_type": "code",
   "execution_count": null,
   "metadata": {
    "scrolled": false
   },
   "outputs": [],
   "source": [
    "import cv2\n",
    "transform = transforms.Compose(\n",
    "    [   transforms.ToPILImage(),\n",
    "        transforms.Resize((224,224)),    \n",
    "        transforms.ToTensor(),\n",
    "        #transforms.Normalize(([0.1307]),([0.3081]))\n",
    "    ]\n",
    "    )\n",
    "\n",
    "fig2 = plt.figure(figsize=(60,60))\n",
    "#network.load_state_dict(torch.load(\"./ZFNet/saved_model/zfnet-1727-d010ddca.pth\"))\n",
    "load_model.load_model(\"./ZFNet/saved_models/ZFNet_with_accuracy=81.22.pth\", network, deconv)\n",
    "count = 0\n",
    "#network.eval()\n",
    "image = cv2.imread(\"./ZFNet/images/dog2.png\")\n",
    "image = torch.transpose(torch.from_numpy(image),1,2)\n",
    "image = torch.transpose(image,0,1)\n",
    "image = transform(image)\n",
    "#image = val_set[6][0]\n",
    "image = image.unsqueeze(0).cuda()\n",
    "\n",
    "with torch.no_grad():\n",
    "    probs = torch.nn.Softmax(dim=-1)(network(image))\n",
    "    for j in range(1,6):\n",
    "        count += 1\n",
    "        ax = fig2.add_subplot(4,5, count)\n",
    "        ax.set_title(\"Layer {}\".format(j), fontsize= 30)\n",
    "        plt.axis('off')\n",
    "        # Channel 3 of the image.\n",
    "        plt.imshow(deconv(network.feature_outputs[\"maxpooling_3\"], network.switch_indices,j).cpu().detach().numpy()[0, 2, :])"
   ]
  },
  {
   "cell_type": "code",
   "execution_count": null,
   "metadata": {},
   "outputs": [],
   "source": [
    "image = val_set[6][0]\n",
    "import matplotlib.pyplot as plt\n",
    "plt.imshow(image.permute(1,2,0))"
   ]
  },
  {
   "cell_type": "code",
   "execution_count": null,
   "metadata": {
    "scrolled": true
   },
   "outputs": [],
   "source": [
    "tool.test_model(network,\"ZFNet\",test_set, accuracy=81.22,batch_size=20,num_workers=4)"
   ]
  },
  {
   "cell_type": "code",
   "execution_count": null,
   "metadata": {
    "scrolled": true
   },
   "outputs": [],
   "source": [
    "categories = test_set.classes\n",
    "print(categories)\n",
    "Vis = Visualize(categories=categories)\n",
    "val_loader = torch.utils.data.DataLoader(val_set,batch_size = 5, shuffle = True, num_workers = 2)\n",
    "batch = next(iter(val_loader))\n",
    "Vis.feature_visualize(network, network.conv2,\"conv2\",batch)"
   ]
  },
  {
   "cell_type": "code",
   "execution_count": null,
   "metadata": {},
   "outputs": [],
   "source": []
  },
  {
   "cell_type": "code",
   "execution_count": null,
   "metadata": {},
   "outputs": [],
   "source": []
  }
 ],
 "metadata": {
  "kernelspec": {
   "display_name": "Python 3",
   "language": "python",
   "name": "python3"
  },
  "language_info": {
   "codemirror_mode": {
    "name": "ipython",
    "version": 3
   },
   "file_extension": ".py",
   "mimetype": "text/x-python",
   "name": "python",
   "nbconvert_exporter": "python",
   "pygments_lexer": "ipython3",
   "version": "3.7.4"
  }
 },
 "nbformat": 4,
 "nbformat_minor": 4
}
