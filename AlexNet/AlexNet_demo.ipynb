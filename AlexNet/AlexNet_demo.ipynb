{
 "cells": [
  {
   "cell_type": "code",
   "execution_count": null,
   "metadata": {},
   "outputs": [],
   "source": [
    "import torch \n",
    "import torch.nn as nn\n",
    "import torch.nn.functional as f\n",
    "from torch.autograd import Variable\n",
    "import torchvision.transforms as transforms\n",
    "import torch.optim as optim\n",
    "from torch.utils.tensorboard import SummaryWriter\n",
    "import torchvision\n",
    "\n",
    "from Tools.train_test_model import train_test_model\n",
    "from Tools.Visualize import Visualize\n",
    "from AlexNet.AlexNet import AlexNet\n",
    "\n",
    "import matplotlib.pyplot as plt"
   ]
  },
  {
   "cell_type": "code",
   "execution_count": null,
   "metadata": {},
   "outputs": [],
   "source": [
    "network = AlexNet(num_class=10)\n",
    "transform = transforms.Compose(\n",
    "    [\n",
    "            transforms.Resize((227,227)),\n",
    "            #transforms.RandomHorizontalFlip(p=0.5),\n",
    "            #transforms.RandomAffine(degrees=0, translate=(0.2, 0.2)),\n",
    "            transforms.ToTensor()\n",
    "            #transforms.Normalize((0.5,0.5,0.5),(0.5,0.5,0.5))\n",
    "    ]\n",
    "    )\n",
    "\n",
    "dataset = torchvision.datasets.CIFAR10(root=\"./Datasets\",train=True, transform = transform,download=True)\n",
    "train_set, val_set = torch.utils.data.random_split(dataset, [40000, 10000])\n",
    "test_set = torchvision.datasets.CIFAR10(root=\"./Datasets\",train=False,transform = transform,download=True)\n",
    "tool = train_test_model(\"AlexNet\")"
   ]
  },
  {
   "cell_type": "code",
   "execution_count": null,
   "metadata": {
    "scrolled": true
   },
   "outputs": [],
   "source": [
    "tool.train_model(network,40,train_set, val_set,lr=[0.0001,0.0005],batch_size=[100],num_worker=[4],saved_accuracy=80)"
   ]
  },
  {
   "cell_type": "code",
   "execution_count": null,
   "metadata": {
    "scrolled": true
   },
   "outputs": [],
   "source": [
    "tool.test_model(network,test_set, accuracy=80.36,batch_size=20, num_workers=4)"
   ]
  },
  {
   "cell_type": "code",
   "execution_count": null,
   "metadata": {
    "scrolled": true
   },
   "outputs": [],
   "source": [
    "categories = test_set.classes\n",
    "print(categories)\n",
    "Vis = Visualize(categories=categories)\n",
    "train_loader = torch.utils.data.DataLoader(train_set,batch_size = 5, shuffle = True, num_workers = 2)\n",
    "batch = next(iter(train_loader))\n",
    "Vis.feature_visualize(network, network.conv2,\"conv2\",batch)"
   ]
  },
  {
   "cell_type": "code",
   "execution_count": null,
   "metadata": {},
   "outputs": [],
   "source": []
  }
 ],
 "metadata": {
  "kernelspec": {
   "display_name": "Python 3",
   "language": "python",
   "name": "python3"
  },
  "language_info": {
   "codemirror_mode": {
    "name": "ipython",
    "version": 3
   },
   "file_extension": ".py",
   "mimetype": "text/x-python",
   "name": "python",
   "nbconvert_exporter": "python",
   "pygments_lexer": "ipython3",
   "version": "3.8.8"
  }
 },
 "nbformat": 4,
 "nbformat_minor": 4
}
